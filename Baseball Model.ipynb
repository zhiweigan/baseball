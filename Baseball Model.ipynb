{
 "cells": [
  {
   "cell_type": "code",
   "execution_count": null,
   "id": "45d48f5b",
   "metadata": {},
   "outputs": [],
   "source": [
    "some changes"
   ]
  },
  {
   "cell_type": "code",
   "execution_count": null,
   "id": "098521bd",
   "metadata": {},
   "outputs": [],
   "source": [
    "Hello"
   ]
  },
  {
   "cell_type": "code",
   "execution_count": 2,
   "id": "b5cf56b8",
   "metadata": {},
   "outputs": [],
   "source": [
    "import pandas as pd\n",
    "import scipy\n",
    "import numpy as np\n"
   ]
  },
  {
   "cell_type": "code",
   "execution_count": null,
   "id": "e99981ca",
   "metadata": {},
   "outputs": [],
   "source": [
    "hello"
   ]
  },
  {
   "cell_type": "code",
   "execution_count": 3,
   "id": "6b3cf7eb",
   "metadata": {},
   "outputs": [],
   "source": [
    "df = pd.read_csv('gamelog2020.csv')  "
   ]
  },
  {
   "cell_type": "code",
   "execution_count": 4,
   "id": "ec4bfa37",
   "metadata": {},
   "outputs": [
    {
     "data": {
      "text/html": [
       "<div>\n",
       "<style scoped>\n",
       "    .dataframe tbody tr th:only-of-type {\n",
       "        vertical-align: middle;\n",
       "    }\n",
       "\n",
       "    .dataframe tbody tr th {\n",
       "        vertical-align: top;\n",
       "    }\n",
       "\n",
       "    .dataframe thead th {\n",
       "        text-align: right;\n",
       "    }\n",
       "</style>\n",
       "<table border=\"1\" class=\"dataframe\">\n",
       "  <thead>\n",
       "    <tr style=\"text-align: right;\">\n",
       "      <th></th>\n",
       "      <th>Date</th>\n",
       "      <th>Visiting Team</th>\n",
       "      <th>Visiting team game num</th>\n",
       "      <th>Home</th>\n",
       "      <th>Home team game num</th>\n",
       "      <th>Visiting final score</th>\n",
       "      <th>Home final score</th>\n",
       "      <th>Num outs</th>\n",
       "      <th>Ballpark</th>\n",
       "      <th>Visit line</th>\n",
       "      <th>Home line</th>\n",
       "      <th>Unnamed: 11</th>\n",
       "    </tr>\n",
       "  </thead>\n",
       "  <tbody>\n",
       "    <tr>\n",
       "      <th>0</th>\n",
       "      <td>\"20200723\"</td>\n",
       "      <td>\"SFN\"</td>\n",
       "      <td>1</td>\n",
       "      <td>\"LAN\"</td>\n",
       "      <td>1</td>\n",
       "      <td>1</td>\n",
       "      <td>8</td>\n",
       "      <td>51</td>\n",
       "      <td>\"LOS03\"</td>\n",
       "      <td>\"001000000\"</td>\n",
       "      <td>\"00010052x\"</td>\n",
       "      <td>NaN</td>\n",
       "    </tr>\n",
       "    <tr>\n",
       "      <th>1</th>\n",
       "      <td>\"20200723\"</td>\n",
       "      <td>\"NYA\"</td>\n",
       "      <td>1</td>\n",
       "      <td>\"WAS\"</td>\n",
       "      <td>1</td>\n",
       "      <td>4</td>\n",
       "      <td>1</td>\n",
       "      <td>31</td>\n",
       "      <td>\"WAS11\"</td>\n",
       "      <td>\"201010\"</td>\n",
       "      <td>\"10000x\"</td>\n",
       "      <td>NaN</td>\n",
       "    </tr>\n",
       "    <tr>\n",
       "      <th>2</th>\n",
       "      <td>\"20200724\"</td>\n",
       "      <td>\"MIL\"</td>\n",
       "      <td>1</td>\n",
       "      <td>\"CHN\"</td>\n",
       "      <td>1</td>\n",
       "      <td>0</td>\n",
       "      <td>3</td>\n",
       "      <td>51</td>\n",
       "      <td>\"CHI11\"</td>\n",
       "      <td>\"000000000\"</td>\n",
       "      <td>\"00200001x\"</td>\n",
       "      <td>NaN</td>\n",
       "    </tr>\n",
       "    <tr>\n",
       "      <th>3</th>\n",
       "      <td>\"20200724\"</td>\n",
       "      <td>\"DET\"</td>\n",
       "      <td>1</td>\n",
       "      <td>\"CIN\"</td>\n",
       "      <td>1</td>\n",
       "      <td>1</td>\n",
       "      <td>7</td>\n",
       "      <td>51</td>\n",
       "      <td>\"CIN09\"</td>\n",
       "      <td>\"000100000\"</td>\n",
       "      <td>\"20101120x\"</td>\n",
       "      <td>NaN</td>\n",
       "    </tr>\n",
       "    <tr>\n",
       "      <th>4</th>\n",
       "      <td>\"20200724\"</td>\n",
       "      <td>\"SFN\"</td>\n",
       "      <td>2</td>\n",
       "      <td>\"LAN\"</td>\n",
       "      <td>2</td>\n",
       "      <td>1</td>\n",
       "      <td>9</td>\n",
       "      <td>51</td>\n",
       "      <td>\"LOS03\"</td>\n",
       "      <td>\"001000000\"</td>\n",
       "      <td>\"11011122x\"</td>\n",
       "      <td>NaN</td>\n",
       "    </tr>\n",
       "    <tr>\n",
       "      <th>...</th>\n",
       "      <td>...</td>\n",
       "      <td>...</td>\n",
       "      <td>...</td>\n",
       "      <td>...</td>\n",
       "      <td>...</td>\n",
       "      <td>...</td>\n",
       "      <td>...</td>\n",
       "      <td>...</td>\n",
       "      <td>...</td>\n",
       "      <td>...</td>\n",
       "      <td>...</td>\n",
       "      <td>...</td>\n",
       "    </tr>\n",
       "    <tr>\n",
       "      <th>893</th>\n",
       "      <td>\"20200927\"</td>\n",
       "      <td>\"MIA\"</td>\n",
       "      <td>60</td>\n",
       "      <td>\"NYA\"</td>\n",
       "      <td>60</td>\n",
       "      <td>5</td>\n",
       "      <td>0</td>\n",
       "      <td>54</td>\n",
       "      <td>\"NYC21\"</td>\n",
       "      <td>\"030010010\"</td>\n",
       "      <td>\"000000000\"</td>\n",
       "      <td>35.0</td>\n",
       "    </tr>\n",
       "    <tr>\n",
       "      <th>894</th>\n",
       "      <td>\"20200927\"</td>\n",
       "      <td>\"SEA\"</td>\n",
       "      <td>60</td>\n",
       "      <td>\"OAK\"</td>\n",
       "      <td>60</td>\n",
       "      <td>2</td>\n",
       "      <td>6</td>\n",
       "      <td>51</td>\n",
       "      <td>\"OAK01\"</td>\n",
       "      <td>\"110000000\"</td>\n",
       "      <td>\"10001031x\"</td>\n",
       "      <td>32.0</td>\n",
       "    </tr>\n",
       "    <tr>\n",
       "      <th>895</th>\n",
       "      <td>\"20200927\"</td>\n",
       "      <td>\"PHI\"</td>\n",
       "      <td>60</td>\n",
       "      <td>\"TBA\"</td>\n",
       "      <td>60</td>\n",
       "      <td>0</td>\n",
       "      <td>5</td>\n",
       "      <td>51</td>\n",
       "      <td>\"STP01\"</td>\n",
       "      <td>\"000000000\"</td>\n",
       "      <td>\"01200200x\"</td>\n",
       "      <td>32.0</td>\n",
       "    </tr>\n",
       "    <tr>\n",
       "      <th>896</th>\n",
       "      <td>\"20200927\"</td>\n",
       "      <td>\"HOU\"</td>\n",
       "      <td>60</td>\n",
       "      <td>\"TEX\"</td>\n",
       "      <td>60</td>\n",
       "      <td>4</td>\n",
       "      <td>8</td>\n",
       "      <td>51</td>\n",
       "      <td>\"ARL02\"</td>\n",
       "      <td>\"101100010\"</td>\n",
       "      <td>\"01051010x\"</td>\n",
       "      <td>35.0</td>\n",
       "    </tr>\n",
       "    <tr>\n",
       "      <th>897</th>\n",
       "      <td>\"20200927\"</td>\n",
       "      <td>\"BAL\"</td>\n",
       "      <td>60</td>\n",
       "      <td>\"TOR\"</td>\n",
       "      <td>60</td>\n",
       "      <td>7</td>\n",
       "      <td>5</td>\n",
       "      <td>54</td>\n",
       "      <td>\"BUF05\"</td>\n",
       "      <td>\"001330000\"</td>\n",
       "      <td>\"013000010\"</td>\n",
       "      <td>35.0</td>\n",
       "    </tr>\n",
       "  </tbody>\n",
       "</table>\n",
       "<p>898 rows × 12 columns</p>\n",
       "</div>"
      ],
      "text/plain": [
       "           Date Visiting Team  Visiting team game num   Home  \\\n",
       "0    \"20200723\"         \"SFN\"                       1  \"LAN\"   \n",
       "1    \"20200723\"         \"NYA\"                       1  \"WAS\"   \n",
       "2    \"20200724\"         \"MIL\"                       1  \"CHN\"   \n",
       "3    \"20200724\"         \"DET\"                       1  \"CIN\"   \n",
       "4    \"20200724\"         \"SFN\"                       2  \"LAN\"   \n",
       "..          ...           ...                     ...    ...   \n",
       "893  \"20200927\"         \"MIA\"                      60  \"NYA\"   \n",
       "894  \"20200927\"         \"SEA\"                      60  \"OAK\"   \n",
       "895  \"20200927\"         \"PHI\"                      60  \"TBA\"   \n",
       "896  \"20200927\"         \"HOU\"                      60  \"TEX\"   \n",
       "897  \"20200927\"         \"BAL\"                      60  \"TOR\"   \n",
       "\n",
       "     Home team game num  Visiting final score  Home final score  Num outs  \\\n",
       "0                     1                     1                 8        51   \n",
       "1                     1                     4                 1        31   \n",
       "2                     1                     0                 3        51   \n",
       "3                     1                     1                 7        51   \n",
       "4                     2                     1                 9        51   \n",
       "..                  ...                   ...               ...       ...   \n",
       "893                  60                     5                 0        54   \n",
       "894                  60                     2                 6        51   \n",
       "895                  60                     0                 5        51   \n",
       "896                  60                     4                 8        51   \n",
       "897                  60                     7                 5        54   \n",
       "\n",
       "    Ballpark   Visit line    Home line  Unnamed: 11  \n",
       "0    \"LOS03\"  \"001000000\"  \"00010052x\"          NaN  \n",
       "1    \"WAS11\"     \"201010\"     \"10000x\"          NaN  \n",
       "2    \"CHI11\"  \"000000000\"  \"00200001x\"          NaN  \n",
       "3    \"CIN09\"  \"000100000\"  \"20101120x\"          NaN  \n",
       "4    \"LOS03\"  \"001000000\"  \"11011122x\"          NaN  \n",
       "..       ...          ...          ...          ...  \n",
       "893  \"NYC21\"  \"030010010\"  \"000000000\"         35.0  \n",
       "894  \"OAK01\"  \"110000000\"  \"10001031x\"         32.0  \n",
       "895  \"STP01\"  \"000000000\"  \"01200200x\"         32.0  \n",
       "896  \"ARL02\"  \"101100010\"  \"01051010x\"         35.0  \n",
       "897  \"BUF05\"  \"001330000\"  \"013000010\"         35.0  \n",
       "\n",
       "[898 rows x 12 columns]"
      ]
     },
     "execution_count": 4,
     "metadata": {},
     "output_type": "execute_result"
    }
   ],
   "source": [
    "df"
   ]
  },
  {
   "cell_type": "code",
   "execution_count": 10,
   "id": "facfa06e",
   "metadata": {},
   "outputs": [],
   "source": [
    "away = df[\"Visit line\"]\n",
    "home = df[\"Home line\"]"
   ]
  },
  {
   "cell_type": "code",
   "execution_count": 14,
   "id": "023c8a64",
   "metadata": {},
   "outputs": [],
   "source": []
  },
  {
   "cell_type": "code",
   "execution_count": 23,
   "id": "79dafa78",
   "metadata": {},
   "outputs": [],
   "source": [
    "away = df[\"Visiting final score\"].to_numpy()\n",
    "home = df[\"Home final score\"].to_numpy()\n",
    "awayandhome = away+home\n",
    "num_outs = df[\"Num outs\"].to_numpy()"
   ]
  },
  {
   "cell_type": "code",
   "execution_count": 24,
   "id": "dbc2ff50",
   "metadata": {},
   "outputs": [
    {
     "data": {
      "text/plain": [
       "array([[1.        , 0.10023742],\n",
       "       [0.10023742, 1.        ]])"
      ]
     },
     "execution_count": 24,
     "metadata": {},
     "output_type": "execute_result"
    }
   ],
   "source": [
    "np.corrcoef(awayandhome, num_outs)"
   ]
  },
  {
   "cell_type": "code",
   "execution_count": 26,
   "id": "74303c5a",
   "metadata": {},
   "outputs": [],
   "source": [
    "from sklearn.linear_model import LinearRegression"
   ]
  },
  {
   "cell_type": "code",
   "execution_count": 39,
   "id": "a4b2562d",
   "metadata": {},
   "outputs": [],
   "source": [
    "X = np.array([away, home])\n",
    "y = num_outs"
   ]
  },
  {
   "cell_type": "code",
   "execution_count": 37,
   "id": "9c5abc60",
   "metadata": {},
   "outputs": [
    {
     "data": {
      "text/plain": [
       "((2, 898), (898,))"
      ]
     },
     "execution_count": 37,
     "metadata": {},
     "output_type": "execute_result"
    }
   ],
   "source": [
    "X.shape, y.shape"
   ]
  },
  {
   "cell_type": "code",
   "execution_count": 38,
   "id": "d59dffa2",
   "metadata": {},
   "outputs": [
    {
     "data": {
      "text/plain": [
       "array([[1, 8],\n",
       "       [4, 1],\n",
       "       [0, 3],\n",
       "       ...,\n",
       "       [0, 5],\n",
       "       [4, 8],\n",
       "       [7, 5]])"
      ]
     },
     "execution_count": 38,
     "metadata": {},
     "output_type": "execute_result"
    }
   ],
   "source": []
  },
  {
   "cell_type": "code",
   "execution_count": 40,
   "id": "7353db0d",
   "metadata": {},
   "outputs": [],
   "source": [
    "reg = LinearRegression().fit(X.T, y)"
   ]
  },
  {
   "cell_type": "code",
   "execution_count": 41,
   "id": "a82a8184",
   "metadata": {},
   "outputs": [
    {
     "data": {
      "text/plain": [
       "array([ 0.3226959 , -0.12175951])"
      ]
     },
     "execution_count": 41,
     "metadata": {},
     "output_type": "execute_result"
    }
   ],
   "source": [
    "reg.coef_"
   ]
  },
  {
   "cell_type": "code",
   "execution_count": 43,
   "id": "cf58405a",
   "metadata": {},
   "outputs": [
    {
     "data": {
      "text/plain": [
       "0.051600416212623346"
      ]
     },
     "execution_count": 43,
     "metadata": {},
     "output_type": "execute_result"
    }
   ],
   "source": [
    "reg.score(X.T, y)"
   ]
  },
  {
   "cell_type": "code",
   "execution_count": null,
   "id": "e18f9e5a",
   "metadata": {},
   "outputs": [],
   "source": []
  }
 ],
 "metadata": {
  "kernelspec": {
   "display_name": "Python 3 (ipykernel)",
   "language": "python",
   "name": "python3"
  },
  "language_info": {
   "codemirror_mode": {
    "name": "ipython",
    "version": 3
   },
   "file_extension": ".py",
   "mimetype": "text/x-python",
   "name": "python",
   "nbconvert_exporter": "python",
   "pygments_lexer": "ipython3",
   "version": "3.8.2"
  }
 },
 "nbformat": 4,
 "nbformat_minor": 5
}
