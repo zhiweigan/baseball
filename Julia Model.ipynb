{
 "cells": [
  {
   "cell_type": "code",
   "execution_count": 66,
   "id": "cba6f2ff",
   "metadata": {},
   "outputs": [],
   "source": [
    "using CSV\n",
    "using DataFrames\n",
    "using StatsBase\n",
    "using Plots"
   ]
  },
  {
   "cell_type": "code",
   "execution_count": null,
   "id": "35a2b724",
   "metadata": {},
   "outputs": [],
   "source": []
  },
  {
   "cell_type": "code",
   "execution_count": 4,
   "id": "e373373c",
   "metadata": {},
   "outputs": [
    {
     "data": {
      "text/html": [
       "<div class=\"data-frame\"><p>897 rows × 49 columns (omitted printing of 42 columns)</p><table class=\"data-frame\"><thead><tr><th></th><th>Date</th><th>Visiting</th><th>Visiting game num</th><th>Home</th><th>Home game num</th><th>Visiting score</th><th>Home score</th></tr><tr><th></th><th title=\"Int64\">Int64</th><th title=\"String3\">String3</th><th title=\"Int64\">Int64</th><th title=\"String3\">String3</th><th title=\"Int64\">Int64</th><th title=\"Int64\">Int64</th><th title=\"Int64\">Int64</th></tr></thead><tbody><tr><th>1</th><td>20200723</td><td>SFN</td><td>1</td><td>LAN</td><td>1</td><td>1</td><td>8</td></tr><tr><th>2</th><td>20200723</td><td>NYA</td><td>1</td><td>WAS</td><td>1</td><td>4</td><td>1</td></tr><tr><th>3</th><td>20200724</td><td>MIL</td><td>1</td><td>CHN</td><td>1</td><td>0</td><td>3</td></tr><tr><th>4</th><td>20200724</td><td>DET</td><td>1</td><td>CIN</td><td>1</td><td>1</td><td>7</td></tr><tr><th>5</th><td>20200724</td><td>SFN</td><td>2</td><td>LAN</td><td>2</td><td>1</td><td>9</td></tr><tr><th>6</th><td>20200724</td><td>ATL</td><td>1</td><td>NYN</td><td>1</td><td>0</td><td>1</td></tr><tr><th>7</th><td>20200724</td><td>MIA</td><td>1</td><td>PHI</td><td>1</td><td>5</td><td>2</td></tr><tr><th>8</th><td>20200724</td><td>ARI</td><td>1</td><td>SDN</td><td>1</td><td>2</td><td>7</td></tr><tr><th>9</th><td>20200724</td><td>PIT</td><td>1</td><td>SLN</td><td>1</td><td>4</td><td>5</td></tr><tr><th>10</th><td>20200724</td><td>BAL</td><td>1</td><td>BOS</td><td>1</td><td>2</td><td>13</td></tr><tr><th>11</th><td>20200724</td><td>MIN</td><td>1</td><td>CHA</td><td>1</td><td>10</td><td>5</td></tr><tr><th>12</th><td>20200724</td><td>KCA</td><td>1</td><td>CLE</td><td>1</td><td>0</td><td>2</td></tr><tr><th>13</th><td>20200724</td><td>SEA</td><td>1</td><td>HOU</td><td>1</td><td>2</td><td>8</td></tr><tr><th>14</th><td>20200724</td><td>ANA</td><td>1</td><td>OAK</td><td>1</td><td>3</td><td>7</td></tr><tr><th>15</th><td>20200724</td><td>TOR</td><td>1</td><td>TBA</td><td>1</td><td>6</td><td>4</td></tr><tr><th>16</th><td>20200724</td><td>COL</td><td>1</td><td>TEX</td><td>1</td><td>0</td><td>1</td></tr><tr><th>17</th><td>20200725</td><td>MIL</td><td>2</td><td>CHN</td><td>2</td><td>8</td><td>3</td></tr><tr><th>18</th><td>20200725</td><td>DET</td><td>2</td><td>CIN</td><td>2</td><td>6</td><td>4</td></tr><tr><th>19</th><td>20200725</td><td>SFN</td><td>3</td><td>LAN</td><td>3</td><td>5</td><td>4</td></tr><tr><th>20</th><td>20200725</td><td>ATL</td><td>2</td><td>NYN</td><td>2</td><td>5</td><td>3</td></tr><tr><th>21</th><td>20200725</td><td>MIA</td><td>2</td><td>PHI</td><td>2</td><td>1</td><td>7</td></tr><tr><th>22</th><td>20200725</td><td>ARI</td><td>2</td><td>SDN</td><td>2</td><td>1</td><td>5</td></tr><tr><th>23</th><td>20200725</td><td>PIT</td><td>2</td><td>SLN</td><td>2</td><td>1</td><td>9</td></tr><tr><th>24</th><td>20200725</td><td>NYA</td><td>2</td><td>WAS</td><td>2</td><td>2</td><td>9</td></tr><tr><th>25</th><td>20200725</td><td>BAL</td><td>2</td><td>BOS</td><td>2</td><td>7</td><td>2</td></tr><tr><th>26</th><td>20200725</td><td>MIN</td><td>2</td><td>CHA</td><td>2</td><td>3</td><td>10</td></tr><tr><th>27</th><td>20200725</td><td>KCA</td><td>2</td><td>CLE</td><td>2</td><td>3</td><td>2</td></tr><tr><th>28</th><td>20200725</td><td>SEA</td><td>2</td><td>HOU</td><td>2</td><td>2</td><td>7</td></tr><tr><th>29</th><td>20200725</td><td>ANA</td><td>2</td><td>OAK</td><td>2</td><td>4</td><td>1</td></tr><tr><th>30</th><td>20200725</td><td>TOR</td><td>2</td><td>TBA</td><td>2</td><td>1</td><td>4</td></tr><tr><th>&vellip;</th><td>&vellip;</td><td>&vellip;</td><td>&vellip;</td><td>&vellip;</td><td>&vellip;</td><td>&vellip;</td><td>&vellip;</td></tr></tbody></table></div>"
      ],
      "text/latex": [
       "\\begin{tabular}{r|cccccccc}\n",
       "\t& Date & Visiting & Visiting game num & Home & Home game num & Visiting score & Home score & \\\\\n",
       "\t\\hline\n",
       "\t& Int64 & String3 & Int64 & String3 & Int64 & Int64 & Int64 & \\\\\n",
       "\t\\hline\n",
       "\t1 & 20200723 & SFN & 1 & LAN & 1 & 1 & 8 & $\\dots$ \\\\\n",
       "\t2 & 20200723 & NYA & 1 & WAS & 1 & 4 & 1 & $\\dots$ \\\\\n",
       "\t3 & 20200724 & MIL & 1 & CHN & 1 & 0 & 3 & $\\dots$ \\\\\n",
       "\t4 & 20200724 & DET & 1 & CIN & 1 & 1 & 7 & $\\dots$ \\\\\n",
       "\t5 & 20200724 & SFN & 2 & LAN & 2 & 1 & 9 & $\\dots$ \\\\\n",
       "\t6 & 20200724 & ATL & 1 & NYN & 1 & 0 & 1 & $\\dots$ \\\\\n",
       "\t7 & 20200724 & MIA & 1 & PHI & 1 & 5 & 2 & $\\dots$ \\\\\n",
       "\t8 & 20200724 & ARI & 1 & SDN & 1 & 2 & 7 & $\\dots$ \\\\\n",
       "\t9 & 20200724 & PIT & 1 & SLN & 1 & 4 & 5 & $\\dots$ \\\\\n",
       "\t10 & 20200724 & BAL & 1 & BOS & 1 & 2 & 13 & $\\dots$ \\\\\n",
       "\t11 & 20200724 & MIN & 1 & CHA & 1 & 10 & 5 & $\\dots$ \\\\\n",
       "\t12 & 20200724 & KCA & 1 & CLE & 1 & 0 & 2 & $\\dots$ \\\\\n",
       "\t13 & 20200724 & SEA & 1 & HOU & 1 & 2 & 8 & $\\dots$ \\\\\n",
       "\t14 & 20200724 & ANA & 1 & OAK & 1 & 3 & 7 & $\\dots$ \\\\\n",
       "\t15 & 20200724 & TOR & 1 & TBA & 1 & 6 & 4 & $\\dots$ \\\\\n",
       "\t16 & 20200724 & COL & 1 & TEX & 1 & 0 & 1 & $\\dots$ \\\\\n",
       "\t17 & 20200725 & MIL & 2 & CHN & 2 & 8 & 3 & $\\dots$ \\\\\n",
       "\t18 & 20200725 & DET & 2 & CIN & 2 & 6 & 4 & $\\dots$ \\\\\n",
       "\t19 & 20200725 & SFN & 3 & LAN & 3 & 5 & 4 & $\\dots$ \\\\\n",
       "\t20 & 20200725 & ATL & 2 & NYN & 2 & 5 & 3 & $\\dots$ \\\\\n",
       "\t21 & 20200725 & MIA & 2 & PHI & 2 & 1 & 7 & $\\dots$ \\\\\n",
       "\t22 & 20200725 & ARI & 2 & SDN & 2 & 1 & 5 & $\\dots$ \\\\\n",
       "\t23 & 20200725 & PIT & 2 & SLN & 2 & 1 & 9 & $\\dots$ \\\\\n",
       "\t24 & 20200725 & NYA & 2 & WAS & 2 & 2 & 9 & $\\dots$ \\\\\n",
       "\t25 & 20200725 & BAL & 2 & BOS & 2 & 7 & 2 & $\\dots$ \\\\\n",
       "\t26 & 20200725 & MIN & 2 & CHA & 2 & 3 & 10 & $\\dots$ \\\\\n",
       "\t27 & 20200725 & KCA & 2 & CLE & 2 & 3 & 2 & $\\dots$ \\\\\n",
       "\t28 & 20200725 & SEA & 2 & HOU & 2 & 2 & 7 & $\\dots$ \\\\\n",
       "\t29 & 20200725 & ANA & 2 & OAK & 2 & 4 & 1 & $\\dots$ \\\\\n",
       "\t30 & 20200725 & TOR & 2 & TBA & 2 & 1 & 4 & $\\dots$ \\\\\n",
       "\t$\\dots$ & $\\dots$ & $\\dots$ & $\\dots$ & $\\dots$ & $\\dots$ & $\\dots$ & $\\dots$ &  \\\\\n",
       "\\end{tabular}\n"
      ],
      "text/plain": [
       "\u001b[1m897×49 DataFrame\u001b[0m\n",
       "\u001b[1m Row \u001b[0m│\u001b[1m Date     \u001b[0m\u001b[1m Visiting \u001b[0m\u001b[1m Visiting game num \u001b[0m\u001b[1m Home    \u001b[0m\u001b[1m Home game num \u001b[0m\u001b[1m Visiting\u001b[0m ⋯\n",
       "\u001b[1m     \u001b[0m│\u001b[90m Int64    \u001b[0m\u001b[90m String3  \u001b[0m\u001b[90m Int64             \u001b[0m\u001b[90m String3 \u001b[0m\u001b[90m Int64         \u001b[0m\u001b[90m Int64   \u001b[0m ⋯\n",
       "─────┼──────────────────────────────────────────────────────────────────────────\n",
       "   1 │ 20200723  SFN                       1  LAN                  1           ⋯\n",
       "   2 │ 20200723  NYA                       1  WAS                  1\n",
       "   3 │ 20200724  MIL                       1  CHN                  1\n",
       "   4 │ 20200724  DET                       1  CIN                  1\n",
       "   5 │ 20200724  SFN                       2  LAN                  2           ⋯\n",
       "   6 │ 20200724  ATL                       1  NYN                  1\n",
       "   7 │ 20200724  MIA                       1  PHI                  1\n",
       "   8 │ 20200724  ARI                       1  SDN                  1\n",
       "   9 │ 20200724  PIT                       1  SLN                  1           ⋯\n",
       "  10 │ 20200724  BAL                       1  BOS                  1\n",
       "  11 │ 20200724  MIN                       1  CHA                  1\n",
       "  ⋮  │    ⋮         ⋮              ⋮             ⋮           ⋮              ⋮  ⋱\n",
       " 888 │ 20200927  NYN                      60  WAS                 60\n",
       " 889 │ 20200927  CHN                      60  CHA                 60           ⋯\n",
       " 890 │ 20200927  PIT                      60  CLE                 60\n",
       " 891 │ 20200927  DET                      58  KCA                 60\n",
       " 892 │ 20200927  CIN                      60  MIN                 60\n",
       " 893 │ 20200927  MIA                      60  NYA                 60           ⋯\n",
       " 894 │ 20200927  SEA                      60  OAK                 60\n",
       " 895 │ 20200927  PHI                      60  TBA                 60\n",
       " 896 │ 20200927  HOU                      60  TEX                 60\n",
       " 897 │ 20200927  BAL                      60  TOR                 60           ⋯\n",
       "\u001b[36m                                                 44 columns and 876 rows omitted\u001b[0m"
      ]
     },
     "execution_count": 4,
     "metadata": {},
     "output_type": "execute_result"
    }
   ],
   "source": [
    "df = CSV.read(\"gamelog2020_cleaned_with_innings.csv\", DataFrame)"
   ]
  },
  {
   "cell_type": "code",
   "execution_count": 72,
   "id": "13270f53",
   "metadata": {},
   "outputs": [],
   "source": [
    "away_innings = names(df)[10:29]\n",
    "away_avg_inning_score = []\n",
    "for inning in away_innings\n",
    "    inning_scores = df[:, inning]\n",
    "    contains_int = false\n",
    "    for element in inning_scores\n",
    "        if typeof(element) == Int\n",
    "            contains_int = true\n",
    "            break\n",
    "        end\n",
    "    end\n",
    "    if contains_int == true\n",
    "        (mu, var) = mean_and_var(skipmissing(inning_scores))\n",
    "        push!(away_avg_inning_score, (mu, var))\n",
    "    end\n",
    "end\n",
    "\n",
    "\n",
    "home_innings = names(df)[30:49]\n",
    "home_avg_inning_score = []\n",
    "for inning in home_innings\n",
    "    inning_scores = df[:, inning]\n",
    "    contains_int = false\n",
    "    for element in inning_scores\n",
    "        if typeof(element) == Int\n",
    "            contains_int = true\n",
    "            break\n",
    "        end\n",
    "    end\n",
    "    if contains_int == true\n",
    "        (mu, var) = mean_and_var(skipmissing(inning_scores))\n",
    "        push!(home_avg_inning_score, (mu, var))\n",
    "    end\n",
    "end\n",
    "away_avg_inning_score\n",
    "home_avg_inning_score;"
   ]
  },
  {
   "cell_type": "code",
   "execution_count": null,
   "id": "2ebe6a72",
   "metadata": {},
   "outputs": [],
   "source": []
  },
  {
   "cell_type": "code",
   "execution_count": null,
   "id": "418f0407",
   "metadata": {},
   "outputs": [],
   "source": []
  }
 ],
 "metadata": {
  "kernelspec": {
   "display_name": "Julia 1.7.0",
   "language": "julia",
   "name": "julia-1.7"
  },
  "language_info": {
   "file_extension": ".jl",
   "mimetype": "application/julia",
   "name": "julia",
   "version": "1.7.0"
  }
 },
 "nbformat": 4,
 "nbformat_minor": 5
}
